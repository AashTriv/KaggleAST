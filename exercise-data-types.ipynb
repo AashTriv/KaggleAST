{
 "cells": [
  {
   "cell_type": "markdown",
   "id": "1bcf74ea",
   "metadata": {
    "papermill": {
     "duration": 0.007965,
     "end_time": "2023-03-06T15:56:18.671238",
     "exception": false,
     "start_time": "2023-03-06T15:56:18.663273",
     "status": "completed"
    },
    "tags": []
   },
   "source": [
    "**This notebook is an exercise in the [Intro to Programming](https://www.kaggle.com/learn/intro-to-programming) course.  You can reference the tutorial at [this link](https://www.kaggle.com/alexisbcook/data-types).**\n",
    "\n",
    "---\n"
   ]
  },
  {
   "cell_type": "markdown",
   "id": "5ba6b29d",
   "metadata": {
    "papermill": {
     "duration": 0.006195,
     "end_time": "2023-03-06T15:56:18.684082",
     "exception": false,
     "start_time": "2023-03-06T15:56:18.677887",
     "status": "completed"
    },
    "tags": []
   },
   "source": [
    "In the tutorial, you learned about four different data types: floats, integers, strings, and booleans.  In this exercise, you'll experiment with them.\n",
    "\n",
    "# Set up the notebook\n",
    "\n",
    "Run the next code cell without changes to set up the notebook."
   ]
  },
  {
   "cell_type": "code",
   "execution_count": 1,
   "id": "f88cbd1a",
   "metadata": {
    "execution": {
     "iopub.execute_input": "2023-03-06T15:56:18.699944Z",
     "iopub.status.busy": "2023-03-06T15:56:18.698600Z",
     "iopub.status.idle": "2023-03-06T15:56:18.750689Z",
     "shell.execute_reply": "2023-03-06T15:56:18.749469Z"
    },
    "papermill": {
     "duration": 0.063938,
     "end_time": "2023-03-06T15:56:18.754689",
     "exception": false,
     "start_time": "2023-03-06T15:56:18.690751",
     "status": "completed"
    },
    "tags": []
   },
   "outputs": [
    {
     "name": "stdout",
     "output_type": "stream",
     "text": [
      "Setup complete.\n"
     ]
    }
   ],
   "source": [
    "# Set up the exercise\n",
    "from learntools.core import binder\n",
    "binder.bind(globals())\n",
    "from learntools.intro_to_programming.ex3 import *\n",
    "print('Setup complete.')"
   ]
  },
  {
   "cell_type": "markdown",
   "id": "a119945e",
   "metadata": {
    "papermill": {
     "duration": 0.00626,
     "end_time": "2023-03-06T15:56:18.768355",
     "exception": false,
     "start_time": "2023-03-06T15:56:18.762095",
     "status": "completed"
    },
    "tags": []
   },
   "source": [
    "# Question 1\n",
    "\n",
    "You have seen how to convert a float to an integer with the `int` function.  Try this out yourself by running the code cell below."
   ]
  },
  {
   "cell_type": "code",
   "execution_count": 2,
   "id": "6114fb46",
   "metadata": {
    "execution": {
     "iopub.execute_input": "2023-03-06T15:56:18.783459Z",
     "iopub.status.busy": "2023-03-06T15:56:18.783006Z",
     "iopub.status.idle": "2023-03-06T15:56:18.790505Z",
     "shell.execute_reply": "2023-03-06T15:56:18.788879Z"
    },
    "papermill": {
     "duration": 0.018308,
     "end_time": "2023-03-06T15:56:18.793263",
     "exception": false,
     "start_time": "2023-03-06T15:56:18.774955",
     "status": "completed"
    },
    "tags": []
   },
   "outputs": [
    {
     "name": "stdout",
     "output_type": "stream",
     "text": [
      "1.0\n",
      "<class 'float'>\n",
      "1\n",
      "<class 'int'>\n"
     ]
    }
   ],
   "source": [
    "# Define a float\n",
    "y = 1.\n",
    "print(y)\n",
    "print(type(y))\n",
    "\n",
    "# Convert float to integer with the int function\n",
    "z = int(y)\n",
    "print(z)\n",
    "print(type(z))"
   ]
  },
  {
   "cell_type": "markdown",
   "id": "8a73f5a8",
   "metadata": {
    "papermill": {
     "duration": 0.007832,
     "end_time": "2023-03-06T15:56:18.807999",
     "exception": false,
     "start_time": "2023-03-06T15:56:18.800167",
     "status": "completed"
    },
    "tags": []
   },
   "source": [
    "In this case, the float you are using has no numbers after the decimal.  \n",
    "- But what happens when you try to convert a float with a fractional part to an integer?  \n",
    "- How does the outcome of the `int` function change for positive and negative numbers?\n",
    "\n",
    "Use the next code cell to investigate and answer these questions.  Feel free to add or remove any lines of code -- it is your workspace!"
   ]
  },
  {
   "cell_type": "code",
   "execution_count": 3,
   "id": "072ba413",
   "metadata": {
    "execution": {
     "iopub.execute_input": "2023-03-06T15:56:18.828304Z",
     "iopub.status.busy": "2023-03-06T15:56:18.827932Z",
     "iopub.status.idle": "2023-03-06T15:56:18.835252Z",
     "shell.execute_reply": "2023-03-06T15:56:18.833623Z"
    },
    "papermill": {
     "duration": 0.02067,
     "end_time": "2023-03-06T15:56:18.838955",
     "exception": false,
     "start_time": "2023-03-06T15:56:18.818285",
     "status": "completed"
    },
    "tags": []
   },
   "outputs": [
    {
     "name": "stdout",
     "output_type": "stream",
     "text": [
      "1\n",
      "1\n",
      "-3\n",
      "-2\n"
     ]
    }
   ],
   "source": [
    "# Uncomment and run this code to get started!\n",
    "print(int(1.2321))\n",
    "print(int(1.747))\n",
    "print(int(-3.94535))\n",
    "print(int(-2.19774))"
   ]
  },
  {
   "cell_type": "markdown",
   "id": "d50ef691",
   "metadata": {
    "papermill": {
     "duration": 0.010419,
     "end_time": "2023-03-06T15:56:18.858860",
     "exception": false,
     "start_time": "2023-03-06T15:56:18.848441",
     "status": "completed"
    },
    "tags": []
   },
   "source": [
    "Once you have an answer, run the code cell below to see the solution.  Viewing the solution will give you credit for answering the problem."
   ]
  },
  {
   "cell_type": "code",
   "execution_count": 4,
   "id": "664925ff",
   "metadata": {
    "execution": {
     "iopub.execute_input": "2023-03-06T15:56:18.876526Z",
     "iopub.status.busy": "2023-03-06T15:56:18.876075Z",
     "iopub.status.idle": "2023-03-06T15:56:18.888054Z",
     "shell.execute_reply": "2023-03-06T15:56:18.886786Z"
    },
    "papermill": {
     "duration": 0.024974,
     "end_time": "2023-03-06T15:56:18.891724",
     "exception": false,
     "start_time": "2023-03-06T15:56:18.866750",
     "status": "completed"
    },
    "tags": []
   },
   "outputs": [
    {
     "data": {
      "application/javascript": [
       "parent.postMessage({\"jupyterEvent\": \"custom.exercise_interaction\", \"data\": {\"outcomeType\": 1, \"valueTowardsCompletion\": 0.2, \"interactionType\": 1, \"questionType\": 4, \"questionId\": \"1_FloatToInt\", \"learnToolsVersion\": \"0.3.4\", \"failureMessage\": \"\", \"exceptionClass\": \"\", \"trace\": \"\"}}, \"*\")"
      ],
      "text/plain": [
       "<IPython.core.display.Javascript object>"
      ]
     },
     "metadata": {},
     "output_type": "display_data"
    },
    {
     "data": {
      "text/markdown": [
       "<span style=\"color:#33cc33\">Correct:</span> \n",
       "\n",
       "Negative floats are always rounded UP to the closest integer (for instance, both -1.1 and -1.9 are rounded up to -1). Positive floats are always rounded DOWN to the closest integer (for instance, 2.1 and 2.9 are rounded down to 2)."
      ],
      "text/plain": [
       "Correct: \n",
       "\n",
       "Negative floats are always rounded UP to the closest integer (for instance, both -1.1 and -1.9 are rounded up to -1). Positive floats are always rounded DOWN to the closest integer (for instance, 2.1 and 2.9 are rounded down to 2)."
      ]
     },
     "metadata": {},
     "output_type": "display_data"
    }
   ],
   "source": [
    "# Check your answer (Run this code cell to receive credit!)\n",
    "q1.check()"
   ]
  },
  {
   "cell_type": "markdown",
   "id": "1558e708",
   "metadata": {
    "papermill": {
     "duration": 0.007342,
     "end_time": "2023-03-06T15:56:18.911123",
     "exception": false,
     "start_time": "2023-03-06T15:56:18.903781",
     "status": "completed"
    },
    "tags": []
   },
   "source": [
    "# Question 2\n",
    "\n",
    "In the tutorial, you learned about booleans (which can take a value of `True` or `False`), in addition to integers, floats, and strings.  For this question, your goal is to determine what happens when you multiply a boolean by any of these data types.  Specifically, \n",
    "- What happens when you multiply an integer or float by `True`?  What happens when you multiply them by `False`?  How does the answer change if the numbers are positive or negative?\n",
    "- What happens when you multiply a string by `True`?  By `False`?\n",
    "\n",
    "Use the next code cell for your investigation. "
   ]
  },
  {
   "cell_type": "code",
   "execution_count": 5,
   "id": "dafd3072",
   "metadata": {
    "execution": {
     "iopub.execute_input": "2023-03-06T15:56:18.927386Z",
     "iopub.status.busy": "2023-03-06T15:56:18.926559Z",
     "iopub.status.idle": "2023-03-06T15:56:18.933867Z",
     "shell.execute_reply": "2023-03-06T15:56:18.932492Z"
    },
    "papermill": {
     "duration": 0.018651,
     "end_time": "2023-03-06T15:56:18.936760",
     "exception": false,
     "start_time": "2023-03-06T15:56:18.918109",
     "status": "completed"
    },
    "tags": []
   },
   "outputs": [
    {
     "name": "stdout",
     "output_type": "stream",
     "text": [
      "3\n",
      "-3.1\n",
      "<class 'str'>\n",
      "0\n"
     ]
    }
   ],
   "source": [
    "# Uncomment and run this code to get started!\n",
    "print(3 * True)\n",
    "print(-3.1 * True)\n",
    "print(type(\"abc\" * False))\n",
    "print(len(\"abc\" * False))"
   ]
  },
  {
   "cell_type": "markdown",
   "id": "6321a0ce",
   "metadata": {
    "papermill": {
     "duration": 0.006553,
     "end_time": "2023-03-06T15:56:18.952128",
     "exception": false,
     "start_time": "2023-03-06T15:56:18.945575",
     "status": "completed"
    },
    "tags": []
   },
   "source": [
    "Once you have an answer, run the code cell below to see the solution.  Viewing the solution will give you credit for answering the problem."
   ]
  },
  {
   "cell_type": "code",
   "execution_count": 6,
   "id": "ab6767e5",
   "metadata": {
    "execution": {
     "iopub.execute_input": "2023-03-06T15:56:18.968499Z",
     "iopub.status.busy": "2023-03-06T15:56:18.967483Z",
     "iopub.status.idle": "2023-03-06T15:56:18.976165Z",
     "shell.execute_reply": "2023-03-06T15:56:18.974905Z"
    },
    "papermill": {
     "duration": 0.019637,
     "end_time": "2023-03-06T15:56:18.978621",
     "exception": false,
     "start_time": "2023-03-06T15:56:18.958984",
     "status": "completed"
    },
    "tags": []
   },
   "outputs": [
    {
     "data": {
      "application/javascript": [
       "parent.postMessage({\"jupyterEvent\": \"custom.exercise_interaction\", \"data\": {\"outcomeType\": 1, \"valueTowardsCompletion\": 0.2, \"interactionType\": 1, \"questionType\": 4, \"questionId\": \"2_MultiplyBooleans\", \"learnToolsVersion\": \"0.3.4\", \"failureMessage\": \"\", \"exceptionClass\": \"\", \"trace\": \"\"}}, \"*\")"
      ],
      "text/plain": [
       "<IPython.core.display.Javascript object>"
      ]
     },
     "metadata": {},
     "output_type": "display_data"
    },
    {
     "data": {
      "text/markdown": [
       "<span style=\"color:#33cc33\">Correct:</span> \n",
       "\n",
       "When you multiple an integer or float by a boolean with value `True`, it just returns that same integer or float (and is equivalent to multiplying by 1).  If you multiply an integer or float by a boolean with value `False`, it always returns 0.  This is true for both positive and negative numbers.  If you multiply a string by a boolean with value `True`, it just returns that same string.  And if you multiply a string by a boolean with value `False`, it returns an empty string (or a string with length zero)."
      ],
      "text/plain": [
       "Correct: \n",
       "\n",
       "When you multiple an integer or float by a boolean with value `True`, it just returns that same integer or float (and is equivalent to multiplying by 1).  If you multiply an integer or float by a boolean with value `False`, it always returns 0.  This is true for both positive and negative numbers.  If you multiply a string by a boolean with value `True`, it just returns that same string.  And if you multiply a string by a boolean with value `False`, it returns an empty string (or a string with length zero)."
      ]
     },
     "metadata": {},
     "output_type": "display_data"
    }
   ],
   "source": [
    "# Check your answer (Run this code cell to receive credit!)\n",
    "q2.check()"
   ]
  },
  {
   "cell_type": "markdown",
   "id": "37a92cb2",
   "metadata": {
    "papermill": {
     "duration": 0.007033,
     "end_time": "2023-03-06T15:56:18.993150",
     "exception": false,
     "start_time": "2023-03-06T15:56:18.986117",
     "status": "completed"
    },
    "tags": []
   },
   "source": [
    "# Question 3\n",
    "\n",
    "In this question, you will build off your work from the previous exercise to write a function that estimates the value of a house.\n",
    "\n",
    "Use the next code cell to create a function `get_expected_cost` that takes as input three variables:\n",
    "- `beds` - number of bedrooms (data type float)\n",
    "- `baths` - number of bathrooms (data type float)\n",
    "- `has_basement` - whether or not the house has a basement (data type boolean)\n",
    "\n",
    "It should return the expected cost of a house with those characteristics. Assume that:\n",
    "- the expected cost for a house with 0 bedrooms and 0 bathrooms, and no basement is 80000, \n",
    "- each bedroom adds 30000 to the expected cost,\n",
    "- each bathroom adds 10000 to the expected cost, and\n",
    "- a basement adds 40000 to the expected cost.\n",
    "\n",
    "For instance,\n",
    "- a house with 1 bedroom, 1 bathroom, and no basement has an expected cost of 80000 + 30000 + 10000 = 120000.  This value will be calculated with `get_expected_cost(1, 1, False)`.\n",
    "- a house with 2 bedrooms, 1 bathroom, and a basement has an expected cost of 80000 + 2*30000 + 10000 + 40000 = 190000.  This value will be calculated with `get_expected_cost(2, 1, True)`.\n",
    "\n",
    "Remember you can always get a hint by uncommenting `q3.hint()` in the code cell following the next!"
   ]
  },
  {
   "cell_type": "code",
   "execution_count": 7,
   "id": "da9e0047",
   "metadata": {
    "execution": {
     "iopub.execute_input": "2023-03-06T15:56:19.010955Z",
     "iopub.status.busy": "2023-03-06T15:56:19.010002Z",
     "iopub.status.idle": "2023-03-06T15:56:19.022611Z",
     "shell.execute_reply": "2023-03-06T15:56:19.021217Z"
    },
    "papermill": {
     "duration": 0.024665,
     "end_time": "2023-03-06T15:56:19.025181",
     "exception": false,
     "start_time": "2023-03-06T15:56:19.000516",
     "status": "completed"
    },
    "tags": []
   },
   "outputs": [
    {
     "data": {
      "application/javascript": [
       "parent.postMessage({\"jupyterEvent\": \"custom.exercise_interaction\", \"data\": {\"outcomeType\": 1, \"valueTowardsCompletion\": 0.2, \"interactionType\": 1, \"questionType\": 2, \"questionId\": \"3_EstimateHouseValueBool\", \"learnToolsVersion\": \"0.3.4\", \"failureMessage\": \"\", \"exceptionClass\": \"\", \"trace\": \"\"}}, \"*\")"
      ],
      "text/plain": [
       "<IPython.core.display.Javascript object>"
      ]
     },
     "metadata": {},
     "output_type": "display_data"
    },
    {
     "data": {
      "text/markdown": [
       "<span style=\"color:#33cc33\">Correct</span>"
      ],
      "text/plain": [
       "Correct"
      ]
     },
     "metadata": {},
     "output_type": "display_data"
    }
   ],
   "source": [
    "# TODO: Complete the function\n",
    "def get_expected_cost(beds, baths, has_basement):\n",
    "    value = 80000+(30000*beds)+(10000*baths)+(40000*has_basement)\n",
    "    return value\n",
    "\n",
    "One_bed_1_bath =get_expected_cost(1,1,False)\n",
    "Two_beds_1_bath = get_expected_cost(2,1,1)\n",
    "\n",
    "# Check your answer \n",
    "q3.check()"
   ]
  },
  {
   "cell_type": "code",
   "execution_count": 8,
   "id": "6aa19523",
   "metadata": {
    "execution": {
     "iopub.execute_input": "2023-03-06T15:56:19.042550Z",
     "iopub.status.busy": "2023-03-06T15:56:19.042115Z",
     "iopub.status.idle": "2023-03-06T15:56:19.046961Z",
     "shell.execute_reply": "2023-03-06T15:56:19.045727Z"
    },
    "papermill": {
     "duration": 0.016496,
     "end_time": "2023-03-06T15:56:19.049635",
     "exception": false,
     "start_time": "2023-03-06T15:56:19.033139",
     "status": "completed"
    },
    "tags": []
   },
   "outputs": [],
   "source": [
    "# Uncomment to see a hint\n",
    "#q3.hint()\n",
    "\n",
    "# Uncomment to view the solution\n",
    "#q3.solution()"
   ]
  },
  {
   "cell_type": "markdown",
   "id": "956fe2c1",
   "metadata": {
    "papermill": {
     "duration": 0.008661,
     "end_time": "2023-03-06T15:56:19.065922",
     "exception": false,
     "start_time": "2023-03-06T15:56:19.057261",
     "status": "completed"
    },
    "tags": []
   },
   "source": [
    "# Question 4\n",
    "\n",
    "We'll continue our study of boolean arithmetic.  For this question, your task is to provide a description of what happpens when you add booleans. \n",
    "\n",
    "Use the next code cell for your investigation.  Feel free to add or remove any lines of code - use it as your workspace!"
   ]
  },
  {
   "cell_type": "code",
   "execution_count": 9,
   "id": "f7266d8e",
   "metadata": {
    "execution": {
     "iopub.execute_input": "2023-03-06T15:56:19.083286Z",
     "iopub.status.busy": "2023-03-06T15:56:19.082547Z",
     "iopub.status.idle": "2023-03-06T15:56:19.089107Z",
     "shell.execute_reply": "2023-03-06T15:56:19.087602Z"
    },
    "papermill": {
     "duration": 0.018305,
     "end_time": "2023-03-06T15:56:19.091905",
     "exception": false,
     "start_time": "2023-03-06T15:56:19.073600",
     "status": "completed"
    },
    "tags": []
   },
   "outputs": [
    {
     "name": "stdout",
     "output_type": "stream",
     "text": [
      "0\n",
      "1\n",
      "1\n",
      "2\n",
      "3\n"
     ]
    }
   ],
   "source": [
    "print(False + False)\n",
    "print(True + False)\n",
    "print(False + True)\n",
    "print(True + True)\n",
    "print(False + True + True + True)"
   ]
  },
  {
   "cell_type": "markdown",
   "id": "a1a3f7ac",
   "metadata": {
    "papermill": {
     "duration": 0.007173,
     "end_time": "2023-03-06T15:56:19.106745",
     "exception": false,
     "start_time": "2023-03-06T15:56:19.099572",
     "status": "completed"
    },
    "tags": []
   },
   "source": [
    "Once you have an answer, run the code cell below to see the solution.  Viewing the solution will give you credit for answering the problem."
   ]
  },
  {
   "cell_type": "code",
   "execution_count": 10,
   "id": "5d5f1566",
   "metadata": {
    "execution": {
     "iopub.execute_input": "2023-03-06T15:56:19.123851Z",
     "iopub.status.busy": "2023-03-06T15:56:19.123419Z",
     "iopub.status.idle": "2023-03-06T15:56:19.131962Z",
     "shell.execute_reply": "2023-03-06T15:56:19.130926Z"
    },
    "papermill": {
     "duration": 0.019912,
     "end_time": "2023-03-06T15:56:19.134144",
     "exception": false,
     "start_time": "2023-03-06T15:56:19.114232",
     "status": "completed"
    },
    "tags": []
   },
   "outputs": [
    {
     "data": {
      "application/javascript": [
       "parent.postMessage({\"jupyterEvent\": \"custom.exercise_interaction\", \"data\": {\"outcomeType\": 1, \"valueTowardsCompletion\": 0.2, \"interactionType\": 1, \"questionType\": 4, \"questionId\": \"4_AddingBooleans\", \"learnToolsVersion\": \"0.3.4\", \"failureMessage\": \"\", \"exceptionClass\": \"\", \"trace\": \"\"}}, \"*\")"
      ],
      "text/plain": [
       "<IPython.core.display.Javascript object>"
      ]
     },
     "metadata": {},
     "output_type": "display_data"
    },
    {
     "data": {
      "text/markdown": [
       "<span style=\"color:#33cc33\">Correct:</span> \n",
       "\n",
       "When you add booleans, adding `False` is equivalent to adding 0, and adding `True` is equivalent to adding 1."
      ],
      "text/plain": [
       "Correct: \n",
       "\n",
       "When you add booleans, adding `False` is equivalent to adding 0, and adding `True` is equivalent to adding 1."
      ]
     },
     "metadata": {},
     "output_type": "display_data"
    }
   ],
   "source": [
    "# Check your answer (Run this code cell to receive credit!)\n",
    "q4.check()"
   ]
  },
  {
   "cell_type": "markdown",
   "id": "ed6cd7e8",
   "metadata": {
    "papermill": {
     "duration": 0.009642,
     "end_time": "2023-03-06T15:56:19.151618",
     "exception": false,
     "start_time": "2023-03-06T15:56:19.141976",
     "status": "completed"
    },
    "tags": []
   },
   "source": [
    "# 🌶️ Question 5\n",
    "\n",
    "You own an online shop where you sell rings with custom engravings.  You offer both gold plated and solid gold rings.\n",
    "- Gold plated rings have a base cost of \\\\$50, and you charge \\\\$7 per engraved unit.  \n",
    "- Solid gold rings have a base cost of \\\\$100, and you charge \\\\$10 per engraved unit.\n",
    "- Spaces and punctuation are counted as engraved units.\n",
    "\n",
    "Write a function `cost_of_project()` that takes two arguments:\n",
    "- `engraving` - a Python string with the text of the engraving\n",
    "- `solid_gold` - a Boolean that indicates whether the ring is solid gold\n",
    "\n",
    "It should return the cost of the project.  This question should be fairly challenging, and you may need a hint."
   ]
  },
  {
   "cell_type": "code",
   "execution_count": 11,
   "id": "eb761d6f",
   "metadata": {
    "execution": {
     "iopub.execute_input": "2023-03-06T15:56:19.169747Z",
     "iopub.status.busy": "2023-03-06T15:56:19.168475Z",
     "iopub.status.idle": "2023-03-06T15:56:19.178239Z",
     "shell.execute_reply": "2023-03-06T15:56:19.177343Z"
    },
    "papermill": {
     "duration": 0.021661,
     "end_time": "2023-03-06T15:56:19.181029",
     "exception": false,
     "start_time": "2023-03-06T15:56:19.159368",
     "status": "completed"
    },
    "tags": []
   },
   "outputs": [
    {
     "data": {
      "application/javascript": [
       "parent.postMessage({\"jupyterEvent\": \"custom.exercise_interaction\", \"data\": {\"outcomeType\": 1, \"valueTowardsCompletion\": 0.2, \"interactionType\": 1, \"questionType\": 2, \"questionId\": \"5_CustomEngravings\", \"learnToolsVersion\": \"0.3.4\", \"failureMessage\": \"\", \"exceptionClass\": \"\", \"trace\": \"\"}}, \"*\")"
      ],
      "text/plain": [
       "<IPython.core.display.Javascript object>"
      ]
     },
     "metadata": {},
     "output_type": "display_data"
    },
    {
     "data": {
      "text/markdown": [
       "<span style=\"color:#33cc33\">Correct</span>"
      ],
      "text/plain": [
       "Correct"
      ]
     },
     "metadata": {},
     "output_type": "display_data"
    }
   ],
   "source": [
    "def cost_of_project(engraving, solid_gold):\n",
    "    cost = solid_gold * (100 + 10 * len(engraving)) + (not solid_gold)* (50 + 7 * len(engraving))\n",
    "    return cost\n",
    "\n",
    "# Check your answer\n",
    "q5.check()"
   ]
  },
  {
   "cell_type": "code",
   "execution_count": 12,
   "id": "c162c9f3",
   "metadata": {
    "execution": {
     "iopub.execute_input": "2023-03-06T15:56:19.199167Z",
     "iopub.status.busy": "2023-03-06T15:56:19.198702Z",
     "iopub.status.idle": "2023-03-06T15:56:19.212945Z",
     "shell.execute_reply": "2023-03-06T15:56:19.211343Z"
    },
    "papermill": {
     "duration": 0.02622,
     "end_time": "2023-03-06T15:56:19.215340",
     "exception": false,
     "start_time": "2023-03-06T15:56:19.189120",
     "status": "completed"
    },
    "tags": []
   },
   "outputs": [
    {
     "data": {
      "application/javascript": [
       "parent.postMessage({\"jupyterEvent\": \"custom.exercise_interaction\", \"data\": {\"interactionType\": 2, \"questionType\": 2, \"questionId\": \"5_CustomEngravings\", \"learnToolsVersion\": \"0.3.4\", \"valueTowardsCompletion\": 0.0, \"failureMessage\": \"\", \"exceptionClass\": \"\", \"trace\": \"\", \"outcomeType\": 4}}, \"*\")"
      ],
      "text/plain": [
       "<IPython.core.display.Javascript object>"
      ]
     },
     "metadata": {},
     "output_type": "display_data"
    },
    {
     "data": {
      "text/markdown": [
       "<span style=\"color:#3366cc\">Hint:</span> There are two options - either the project uses solid gold or does not.  With this in mind, you can structure your solution like this: `cost = solid_gold * ____ + (not_solid_gold) * ____`.  You need to figure out how to fill in the blanks. Also, remember that:\n",
       "- If `solid_gold = True`, then `(not solid_gold) = False`, and if `solid_gold = False`, then `(not solid_gold) = True`.\n",
       "- Multiplying an integer by `True` is equivalent to multiplying it by 1, and multiplying an integer by `False` is equivalent to multiplying it by 0."
      ],
      "text/plain": [
       "Hint: There are two options - either the project uses solid gold or does not.  With this in mind, you can structure your solution like this: `cost = solid_gold * ____ + (not_solid_gold) * ____`.  You need to figure out how to fill in the blanks. Also, remember that:\n",
       "- If `solid_gold = True`, then `(not solid_gold) = False`, and if `solid_gold = False`, then `(not solid_gold) = True`.\n",
       "- Multiplying an integer by `True` is equivalent to multiplying it by 1, and multiplying an integer by `False` is equivalent to multiplying it by 0."
      ]
     },
     "metadata": {},
     "output_type": "display_data"
    },
    {
     "data": {
      "application/javascript": [
       "parent.postMessage({\"jupyterEvent\": \"custom.exercise_interaction\", \"data\": {\"interactionType\": 3, \"questionType\": 2, \"questionId\": \"5_CustomEngravings\", \"learnToolsVersion\": \"0.3.4\", \"valueTowardsCompletion\": 0.0, \"failureMessage\": \"\", \"exceptionClass\": \"\", \"trace\": \"\", \"outcomeType\": 4}}, \"*\")"
      ],
      "text/plain": [
       "<IPython.core.display.Javascript object>"
      ]
     },
     "metadata": {},
     "output_type": "display_data"
    },
    {
     "data": {
      "text/markdown": [
       "<span style=\"color:#33cc99\">Solution:</span> \n",
       "```python\n",
       "def cost_of_project(engraving, solid_gold):\n",
       "    cost = solid_gold * (100 + 10 * len(engraving)) + (not solid_gold) * (50 + 7 * len(engraving))\n",
       "    return cost\n",
       "\n",
       "```"
      ],
      "text/plain": [
       "Solution: \n",
       "```python\n",
       "def cost_of_project(engraving, solid_gold):\n",
       "    cost = solid_gold * (100 + 10 * len(engraving)) + (not solid_gold) * (50 + 7 * len(engraving))\n",
       "    return cost\n",
       "\n",
       "```"
      ]
     },
     "metadata": {},
     "output_type": "display_data"
    }
   ],
   "source": [
    "# Uncomment to see a hint\n",
    "q5.hint()\n",
    "\n",
    "# Uncomment to view the solution\n",
    "q5.solution()"
   ]
  },
  {
   "cell_type": "markdown",
   "id": "85a8b277",
   "metadata": {
    "papermill": {
     "duration": 0.008263,
     "end_time": "2023-03-06T15:56:19.232219",
     "exception": false,
     "start_time": "2023-03-06T15:56:19.223956",
     "status": "completed"
    },
    "tags": []
   },
   "source": [
    "Run the next code cell to calculate the cost of engraving `Charlie+Denver` on a solid gold ring."
   ]
  },
  {
   "cell_type": "code",
   "execution_count": 13,
   "id": "ef21a75d",
   "metadata": {
    "execution": {
     "iopub.execute_input": "2023-03-06T15:56:19.252130Z",
     "iopub.status.busy": "2023-03-06T15:56:19.250807Z",
     "iopub.status.idle": "2023-03-06T15:56:19.257465Z",
     "shell.execute_reply": "2023-03-06T15:56:19.255923Z"
    },
    "papermill": {
     "duration": 0.019388,
     "end_time": "2023-03-06T15:56:19.260200",
     "exception": false,
     "start_time": "2023-03-06T15:56:19.240812",
     "status": "completed"
    },
    "tags": []
   },
   "outputs": [
    {
     "name": "stdout",
     "output_type": "stream",
     "text": [
      "240\n"
     ]
    }
   ],
   "source": [
    "project_one = cost_of_project(\"Charlie+Denver\", True)\n",
    "print(project_one)"
   ]
  },
  {
   "cell_type": "markdown",
   "id": "6b949cc4",
   "metadata": {
    "papermill": {
     "duration": 0.008341,
     "end_time": "2023-03-06T15:56:19.277573",
     "exception": false,
     "start_time": "2023-03-06T15:56:19.269232",
     "status": "completed"
    },
    "tags": []
   },
   "source": [
    "Use the next code cell to calculate the cost of engraving `08/10/2000` on a gold plated ring."
   ]
  },
  {
   "cell_type": "code",
   "execution_count": 14,
   "id": "7c7e23ba",
   "metadata": {
    "execution": {
     "iopub.execute_input": "2023-03-06T15:56:19.297619Z",
     "iopub.status.busy": "2023-03-06T15:56:19.296798Z",
     "iopub.status.idle": "2023-03-06T15:56:19.303213Z",
     "shell.execute_reply": "2023-03-06T15:56:19.301627Z"
    },
    "papermill": {
     "duration": 0.019841,
     "end_time": "2023-03-06T15:56:19.305992",
     "exception": false,
     "start_time": "2023-03-06T15:56:19.286151",
     "status": "completed"
    },
    "tags": []
   },
   "outputs": [
    {
     "name": "stdout",
     "output_type": "stream",
     "text": [
      "120\n"
     ]
    }
   ],
   "source": [
    "project_two = cost_of_project(\"08/10/2000\", False)\n",
    "print(project_two)"
   ]
  },
  {
   "cell_type": "markdown",
   "id": "b6082ac9",
   "metadata": {
    "papermill": {
     "duration": 0.00829,
     "end_time": "2023-03-06T15:56:19.323134",
     "exception": false,
     "start_time": "2023-03-06T15:56:19.314844",
     "status": "completed"
    },
    "tags": []
   },
   "source": [
    "# Keep going\n",
    "\n",
    "Continue to the next lesson to **[learn about conditions and conditional statements](https://www.kaggle.com/alexisbcook/conditions-and-conditional-statements)**."
   ]
  },
  {
   "cell_type": "markdown",
   "id": "ce6eef3b",
   "metadata": {
    "papermill": {
     "duration": 0.00845,
     "end_time": "2023-03-06T15:56:19.340357",
     "exception": false,
     "start_time": "2023-03-06T15:56:19.331907",
     "status": "completed"
    },
    "tags": []
   },
   "source": [
    "---\n",
    "\n",
    "\n",
    "\n",
    "\n",
    "*Have questions or comments? Visit the [course discussion forum](https://www.kaggle.com/learn/intro-to-programming/discussion) to chat with other learners.*"
   ]
  }
 ],
 "metadata": {
  "kernelspec": {
   "display_name": "Python 3",
   "language": "python",
   "name": "python3"
  },
  "language_info": {
   "codemirror_mode": {
    "name": "ipython",
    "version": 3
   },
   "file_extension": ".py",
   "mimetype": "text/x-python",
   "name": "python",
   "nbconvert_exporter": "python",
   "pygments_lexer": "ipython3",
   "version": "3.7.12"
  },
  "papermill": {
   "default_parameters": {},
   "duration": 12.042227,
   "end_time": "2023-03-06T15:56:20.071286",
   "environment_variables": {},
   "exception": null,
   "input_path": "__notebook__.ipynb",
   "output_path": "__notebook__.ipynb",
   "parameters": {},
   "start_time": "2023-03-06T15:56:08.029059",
   "version": "2.4.0"
  }
 },
 "nbformat": 4,
 "nbformat_minor": 5
}
